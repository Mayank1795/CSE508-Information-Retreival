{
 "cells": [
  {
   "cell_type": "code",
   "execution_count": 44,
   "metadata": {},
   "outputs": [],
   "source": [
    "import os\n",
    "import pandas as pd \n",
    "import numpy as np\n",
    "from nltk import WordNetLemmatizer\n",
    "from nltk import PorterStemmer\n",
    "from nltk.corpus import stopwords\n",
    "from nltk import WordPunctTokenizer\n",
    "import math\n",
    "from nltk.tokenize import RegexpTokenizer\n",
    "from sklearn.feature_extraction.text import CountVectorizer\n",
    "import matplotlib.pyplot as plt\n",
    "from tqdm import tqdm_notebook\n",
    "from collections import Counter\n",
    "from sklearn.metrics import log_loss\n",
    "from scipy.spatial.distance import cdist\n",
    "import random\n",
    "import enchant\n",
    "import seaborn as sns\n",
    "import copy\n",
    "import warnings\n",
    "warnings.filterwarnings('ignore')\n",
    "random.seed(1)\n",
    "%matplotlib inline\n",
    "plt.rcParams['figure.figsize'] = [6, 4]\n",
    "sns.set(style = \"darkgrid\")\n",
    "\n",
    "%run fns.ipynb"
   ]
  },
  {
   "cell_type": "code",
   "execution_count": 27,
   "metadata": {},
   "outputs": [],
   "source": [
    "stop_ws = set(stopwords.words('english'))\n",
    "d = enchant.Dict(\"en_US\")\n",
    "path = \"dataset/\"\n",
    "renamed = False"
   ]
  },
  {
   "cell_type": "code",
   "execution_count": 28,
   "metadata": {},
   "outputs": [
    {
     "name": "stdout",
     "output_type": "stream",
     "text": [
      "{'talk.politics.misc': 0, 'sci.med': 1, 'sci.space': 2, 'comp.graphics': 3, 'rec.sport.hockey': 4}\n"
     ]
    }
   ],
   "source": [
    "# if(not renamed):\n",
    "#     rename_documents(path)\n",
    "#     renamed = True\n",
    "\n",
    "#doc id start from 1\n",
    "docs, docs_label, label_mapped = collect_documents(path)\n",
    "\n",
    "C = 5"
   ]
  },
  {
   "cell_type": "code",
   "execution_count": 29,
   "metadata": {},
   "outputs": [],
   "source": [
    "data = pd.DataFrame.from_dict(docs, orient = 'index', columns = ['text'])\n",
    "data['doc_id'] = data.index.astype(str).astype(int)\n",
    "data['class'] = docs_label\n",
    "data = data.sample(frac=1).reset_index(drop=True)"
   ]
  },
  {
   "cell_type": "code",
   "execution_count": 30,
   "metadata": {},
   "outputs": [],
   "source": [
    "def joinList(inputList):\n",
    "    return \" \".join(inputList)  "
   ]
  },
  {
   "cell_type": "code",
   "execution_count": 31,
   "metadata": {},
   "outputs": [],
   "source": [
    "def applyPreprocessing(data, col_name):\n",
    "    data[col_name] = data[col_name].apply(tokenizeDocument)\n",
    "    data[col_name] = data[col_name].apply(joinList)\n",
    "  \n",
    "    return data[col_name]"
   ]
  },
  {
   "cell_type": "code",
   "execution_count": 32,
   "metadata": {},
   "outputs": [
    {
     "data": {
      "text/html": [
       "<div>\n",
       "<style scoped>\n",
       "    .dataframe tbody tr th:only-of-type {\n",
       "        vertical-align: middle;\n",
       "    }\n",
       "\n",
       "    .dataframe tbody tr th {\n",
       "        vertical-align: top;\n",
       "    }\n",
       "\n",
       "    .dataframe thead th {\n",
       "        text-align: right;\n",
       "    }\n",
       "</style>\n",
       "<table border=\"1\" class=\"dataframe\">\n",
       "  <thead>\n",
       "    <tr style=\"text-align: right;\">\n",
       "      <th></th>\n",
       "      <th>text</th>\n",
       "      <th>doc_id</th>\n",
       "      <th>class</th>\n",
       "    </tr>\n",
       "  </thead>\n",
       "  <tbody>\n",
       "    <tr>\n",
       "      <th>0</th>\n",
       "      <td>comp graphic path cantaloupe com an net gov co...</td>\n",
       "      <td>587</td>\n",
       "      <td>3</td>\n",
       "    </tr>\n",
       "    <tr>\n",
       "      <th>1</th>\n",
       "      <td>cantaloupe com an net destroyer ca ca ca ac ca...</td>\n",
       "      <td>2681</td>\n",
       "      <td>4</td>\n",
       "    </tr>\n",
       "    <tr>\n",
       "      <th>2</th>\n",
       "      <td>cantaloupe sci space sci bio newsgroups sci sp...</td>\n",
       "      <td>4744</td>\n",
       "      <td>2</td>\n",
       "    </tr>\n",
       "    <tr>\n",
       "      <th>3</th>\n",
       "      <td>cantaloupe magnesium club cc news state mp sta...</td>\n",
       "      <td>731</td>\n",
       "      <td>3</td>\n",
       "    </tr>\n",
       "    <tr>\n",
       "      <th>4</th>\n",
       "      <td>cantaloupe magnesium club cc news state mp sta...</td>\n",
       "      <td>2073</td>\n",
       "      <td>4</td>\n",
       "    </tr>\n",
       "  </tbody>\n",
       "</table>\n",
       "</div>"
      ],
      "text/plain": [
       "                                                text  doc_id  class\n",
       "0  comp graphic path cantaloupe com an net gov co...     587      3\n",
       "1  cantaloupe com an net destroyer ca ca ca ac ca...    2681      4\n",
       "2  cantaloupe sci space sci bio newsgroups sci sp...    4744      2\n",
       "3  cantaloupe magnesium club cc news state mp sta...     731      3\n",
       "4  cantaloupe magnesium club cc news state mp sta...    2073      4"
      ]
     },
     "execution_count": 32,
     "metadata": {},
     "output_type": "execute_result"
    }
   ],
   "source": [
    "data['text'] = applyPreprocessing(data, 'text')\n",
    "data.head()"
   ]
  },
  {
   "cell_type": "code",
   "execution_count": 33,
   "metadata": {},
   "outputs": [],
   "source": [
    "def getBagofwords(data, col_name):\n",
    "    vectorizer = CountVectorizer(analyzer = 'word')\n",
    "    bow = vectorizer.fit_transform(data[col_name])\n",
    "    return vectorizer, bow\n",
    "\n",
    "\n",
    "def featureNameToIndex(B,feat):\n",
    "    return B.vocabulary_.get(feat)"
   ]
  },
  {
   "cell_type": "code",
   "execution_count": 34,
   "metadata": {},
   "outputs": [],
   "source": [
    "def getVectors(d):\n",
    "    vectorizer_content, X  = getBagofwords(d, 'text')\n",
    "\n",
    "    print('Total no. of documents : ', X.shape[0])\n",
    "    print('Total no. of features (full text) : ', X.shape[1])\n",
    "    \n",
    "    X = X.toarray()\n",
    "    X = X * (1/np.linalg.norm(X, axis = 1))[:, np.newaxis]\n",
    "    \n",
    "    return X"
   ]
  },
  {
   "cell_type": "code",
   "execution_count": 35,
   "metadata": {},
   "outputs": [
    {
     "name": "stdout",
     "output_type": "stream",
     "text": [
      "Total no. of documents :  5000\n",
      "Total no. of features (full text) :  19714\n"
     ]
    }
   ],
   "source": [
    "X = getVectors(data)"
   ]
  },
  {
   "cell_type": "code",
   "execution_count": 36,
   "metadata": {},
   "outputs": [],
   "source": [
    "split_percentage = 90 # train set %\n",
    "nr = int((split_percentage/100)*X.shape[0])\n",
    "X_train = X[:nr, :]\n",
    "y_train = data['class'].iloc[:nr].values\n",
    "\n",
    "X_test = X[nr:, :]\n",
    "y_test = data['class'].iloc[nr:].values"
   ]
  },
  {
   "cell_type": "code",
   "execution_count": 37,
   "metadata": {},
   "outputs": [
    {
     "name": "stdout",
     "output_type": "stream",
     "text": [
      "Training Set :  (4500, 19714)\n",
      "Training Set labels :  (4500,)\n",
      "Test Set :  (500, 19714)\n",
      "Test Set labels :  (500,)\n"
     ]
    }
   ],
   "source": [
    "print('Training Set : ', X_train.shape)\n",
    "print('Training Set labels : ', y_train.shape)\n",
    "print('Test Set : ', X_test.shape)\n",
    "print('Test Set labels : ', y_test.shape)"
   ]
  },
  {
   "cell_type": "code",
   "execution_count": 38,
   "metadata": {},
   "outputs": [],
   "source": [
    "def kNN(k, x_train, x_test, y_train):\n",
    "    predicted_labels = []\n",
    "    \n",
    "    prob_mat = np.zeros((x_test.shape[0], C)) # 1500 x C\n",
    "    \n",
    "    dist_mat = np.zeros((x_test.shape[0], x_train.shape[0]))\n",
    "    \n",
    "    for i in tqdm_notebook(range(0, x_test.shape[0])):\n",
    "        dist_mat[i, :] = cdist(x_train, x_test[i, :][np.newaxis,  :], 'euclidean').ravel()\n",
    "        pos = dist_mat[i,:].argsort()[:k]\n",
    "        unq, cnt = np.unique(y_train[pos], return_counts = True) # prob for ROC\n",
    "        for c in range(0, unq.shape[0]):\n",
    "            prob_mat[i, unq[c]] = cnt[c]/k\n",
    "        \n",
    "    predicted_labels = np.argmax(prob_mat, axis = 1)\n",
    "    \n",
    "    return predicted_labels, prob_mat"
   ]
  },
  {
   "cell_type": "markdown",
   "metadata": {},
   "source": [
    "### Confusion Matrix, Accuracy and ROC"
   ]
  },
  {
   "cell_type": "code",
   "execution_count": 46,
   "metadata": {},
   "outputs": [
    {
     "data": {
      "application/vnd.jupyter.widget-view+json": {
       "model_id": "25cba9d42c1240719dc195b5e351a7fa",
       "version_major": 2,
       "version_minor": 0
      },
      "text/plain": [
       "HBox(children=(IntProgress(value=0, max=500), HTML(value='')))"
      ]
     },
     "metadata": {},
     "output_type": "display_data"
    },
    {
     "name": "stdout",
     "output_type": "stream",
     "text": [
      "\n",
      "Log loss : 2.8321796643826804\n",
      "Accuracy using k =  1 ,  90:10 91.8 %.\n"
     ]
    },
    {
     "data": {
      "image/png": "[encoded data removed]",
      "text/plain": [
       "<Figure size 432x288 with 2 Axes>"
      ]
     },
     "metadata": {},
     "output_type": "display_data"
    },
    {
     "name": "stdout",
     "output_type": "stream",
     "text": [
      "     class       FPR       TPR\n",
      "0      0.0  1.000000  1.000000\n",
      "1      0.0  0.007389  0.978723\n",
      "2      0.0  0.007389  0.978723\n",
      "3      0.0  0.007389  0.978723\n",
      "4      0.0  0.007389  0.978723\n",
      "5      0.0  0.007389  0.978723\n",
      "6      0.0  0.007389  0.978723\n",
      "7      0.0  0.007389  0.978723\n",
      "8      0.0  0.007389  0.978723\n",
      "9      0.0  0.007389  0.978723\n",
      "10     0.0  0.007389  0.978723\n",
      "11     0.0  0.007389  0.978723\n",
      "12     0.0  0.007389  0.978723\n",
      "13     0.0  0.007389  0.978723\n",
      "14     0.0  0.007389  0.978723\n",
      "15     0.0  0.007389  0.978723\n",
      "16     0.0  0.007389  0.978723\n",
      "17     0.0  0.007389  0.978723\n",
      "18     0.0  0.007389  0.978723\n",
      "19     0.0  0.007389  0.978723\n",
      "20     0.0  0.007389  0.978723\n",
      "21     0.0  0.007389  0.978723\n",
      "22     0.0  0.007389  0.978723\n",
      "23     0.0  0.007389  0.978723\n",
      "24     0.0  0.007389  0.978723\n",
      "25     0.0  0.007389  0.978723\n",
      "26     0.0  0.007389  0.978723\n",
      "27     0.0  0.007389  0.978723\n",
      "28     0.0  0.007389  0.978723\n",
      "29     0.0  0.007389  0.978723\n",
      "..     ...       ...       ...\n",
      "470    4.0  0.025253  0.961538\n",
      "471    4.0  0.025253  0.961538\n",
      "472    4.0  0.025253  0.961538\n",
      "473    4.0  0.025253  0.961538\n",
      "474    4.0  0.025253  0.961538\n",
      "475    4.0  0.025253  0.961538\n",
      "476    4.0  0.025253  0.961538\n",
      "477    4.0  0.025253  0.961538\n",
      "478    4.0  0.025253  0.961538\n",
      "479    4.0  0.025253  0.961538\n",
      "480    4.0  0.025253  0.961538\n",
      "481    4.0  0.025253  0.961538\n",
      "482    4.0  0.025253  0.961538\n",
      "483    4.0  0.025253  0.961538\n",
      "484    4.0  0.025253  0.961538\n",
      "485    4.0  0.025253  0.961538\n",
      "486    4.0  0.025253  0.961538\n",
      "487    4.0  0.025253  0.961538\n",
      "488    4.0  0.025253  0.961538\n",
      "489    4.0  0.025253  0.961538\n",
      "490    4.0  0.025253  0.961538\n",
      "491    4.0  0.025253  0.961538\n",
      "492    4.0  0.025253  0.961538\n",
      "493    4.0  0.025253  0.961538\n",
      "494    4.0  0.025253  0.961538\n",
      "495    4.0  0.025253  0.961538\n",
      "496    4.0  0.025253  0.961538\n",
      "497    4.0  0.025253  0.961538\n",
      "498    4.0  0.025253  0.961538\n",
      "499    4.0  0.000000  0.000000\n",
      "\n",
      "[500 rows x 3 columns]\n"
     ]
    },
    {
     "data": {
      "image/png": "[encoded data removed]",
      "text/plain": [
       "<Figure size 432x288 with 1 Axes>"
      ]
     },
     "metadata": {},
     "output_type": "display_data"
    }
   ],
   "source": [
    "# k = list(range(1,20,2))\n",
    "k = [1]\n",
    "log_ls = []\n",
    "acc = []\n",
    "\n",
    "for v in k:\n",
    "    predict, probab_mat = kNN(v, X_train, X_test, y_train)\n",
    "    conf_mat = confusionMatrix(predict, y_test)\n",
    "    \n",
    "    print('Log loss :', log_loss(y_test, probab_mat))\n",
    "    log_ls.append(log_loss(y_test, probab_mat))\n",
    "    \n",
    "    accuracy = (np.trace(conf_mat)/np.sum(conf_mat))*100\n",
    "    acc.append(accuracy)\n",
    "    \n",
    "    print('Accuracy using k = ',v,', ', str(split_percentage) +':'+ str(100 - split_percentage), accuracy, '%.')\n",
    "    \n",
    "    drawConfusionMatrix(conf_mat, label_mapped, str(split_percentage) +':'+ str(100 - split_percentage) + ' k = ' + str(v))\n",
    "    ROC(y_test, probab_mat, str(split_percentage) +':'+ str(100 - split_percentage) + ' k = ' + str(v))"
   ]
  },
  {
   "cell_type": "code",
   "execution_count": null,
   "metadata": {},
   "outputs": [],
   "source": []
  },
  {
   "cell_type": "code",
   "execution_count": null,
   "metadata": {},
   "outputs": [],
   "source": []
  },
  {
   "cell_type": "code",
   "execution_count": null,
   "metadata": {},
   "outputs": [],
   "source": []
  },
  {
   "cell_type": "code",
   "execution_count": null,
   "metadata": {},
   "outputs": [],
   "source": []
  },
  {
   "cell_type": "code",
   "execution_count": null,
   "metadata": {},
   "outputs": [],
   "source": []
  },
  {
   "cell_type": "code",
   "execution_count": null,
   "metadata": {},
   "outputs": [],
   "source": []
  },
  {
   "cell_type": "code",
   "execution_count": null,
   "metadata": {},
   "outputs": [],
   "source": []
  },
  {
   "cell_type": "code",
   "execution_count": null,
   "metadata": {},
   "outputs": [],
   "source": []
  }
 ],
 "metadata": {
  "kernelspec": {
   "display_name": "Python 3",
   "language": "python",
   "name": "python3"
  },
  "language_info": {
   "codemirror_mode": {
    "name": "ipython",
    "version": 3
   },
   "file_extension": ".py",
   "mimetype": "text/x-python",
   "name": "python",
   "nbconvert_exporter": "python",
   "pygments_lexer": "ipython3",
   "version": "3.6.7"
  }
 },
 "nbformat": 4,
 "nbformat_minor": 2
}
