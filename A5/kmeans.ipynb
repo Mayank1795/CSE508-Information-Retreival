{
 "cells": [
  {
   "cell_type": "code",
   "execution_count": 1,
   "metadata": {},
   "outputs": [
    {
     "name": "stderr",
     "output_type": "stream",
     "text": [
      "/home/mayank/.local/lib/python3.6/site-packages/requests/__init__.py:91: RequestsDependencyWarning: urllib3 (1.24.1) or chardet (2.3.0) doesn't match a supported version!\n",
      "  RequestsDependencyWarning)\n"
     ]
    }
   ],
   "source": [
    "import os\n",
    "from pprint import pprint\n",
    "import pandas as pd \n",
    "import numpy as np\n",
    "from nltk import WordNetLemmatizer\n",
    "from nltk import PorterStemmer\n",
    "from nltk.corpus import stopwords\n",
    "from gensim.test.utils import datapath\n",
    "from nltk import WordPunctTokenizer\n",
    "import enchant\n",
    "import math\n",
    "from nltk.tokenize import RegexpTokenizer\n",
    "import matplotlib.pyplot as plt\n",
    "from sklearn.metrics.cluster import *\n",
    "from collections import Counter\n",
    "import random\n",
    "from tqdm import tqdm\n",
    "from tqdm import tqdm_notebook\n",
    "import seaborn as sns\n",
    "import copy\n",
    "from gensim.models import KeyedVectors\n",
    "from sklearn.feature_extraction.text import CountVectorizer\n",
    "random.seed(1)\n",
    "%matplotlib inline\n",
    "# plt.rcParams['figure.figsize'] = [8, 8]\n",
    "sns.set(style = \"darkgrid\")\n",
    "\n",
    "%run fns.ipynb"
   ]
  },
  {
   "cell_type": "code",
   "execution_count": 2,
   "metadata": {},
   "outputs": [],
   "source": [
    "d = enchant.Dict(\"en_US\")\n",
    "stop_ws = set(stopwords.words('english'))\n",
    "path = \"dataset/\""
   ]
  },
  {
   "cell_type": "code",
   "execution_count": 3,
   "metadata": {},
   "outputs": [
    {
     "name": "stdout",
     "output_type": "stream",
     "text": [
      "{'rec.sport.hockey': 0, 'sci.space': 1, 'comp.graphics': 2, 'sci.med': 3, 'talk.politics.misc': 4}\n"
     ]
    }
   ],
   "source": [
    "docs, docs_label, label_mapped = collect_documents(path)\n",
    "C = 5"
   ]
  },
  {
   "cell_type": "code",
   "execution_count": 4,
   "metadata": {},
   "outputs": [
    {
     "data": {
      "text/html": [
       "<div>\n",
       "<style scoped>\n",
       "    .dataframe tbody tr th:only-of-type {\n",
       "        vertical-align: middle;\n",
       "    }\n",
       "\n",
       "    .dataframe tbody tr th {\n",
       "        vertical-align: top;\n",
       "    }\n",
       "\n",
       "    .dataframe thead th {\n",
       "        text-align: right;\n",
       "    }\n",
       "</style>\n",
       "<table border=\"1\" class=\"dataframe\">\n",
       "  <thead>\n",
       "    <tr style=\"text-align: right;\">\n",
       "      <th></th>\n",
       "      <th>text</th>\n",
       "      <th>doc_id</th>\n",
       "      <th>class</th>\n",
       "    </tr>\n",
       "  </thead>\n",
       "  <tbody>\n",
       "    <tr>\n",
       "      <th>415</th>\n",
       "      <td>b'Newsgroups: comp.graphics\\nPath: cantaloupe....</td>\n",
       "      <td>415</td>\n",
       "      <td>2</td>\n",
       "    </tr>\n",
       "    <tr>\n",
       "      <th>926</th>\n",
       "      <td>b'Newsgroups: comp.graphics\\nPath: cantaloupe....</td>\n",
       "      <td>926</td>\n",
       "      <td>2</td>\n",
       "    </tr>\n",
       "    <tr>\n",
       "      <th>511</th>\n",
       "      <td>b\"Xref: cantaloupe.srv.cs.cmu.edu comp.sys.hp:...</td>\n",
       "      <td>511</td>\n",
       "      <td>2</td>\n",
       "    </tr>\n",
       "    <tr>\n",
       "      <th>492</th>\n",
       "      <td>b'Newsgroups: comp.graphics\\nPath: cantaloupe....</td>\n",
       "      <td>492</td>\n",
       "      <td>2</td>\n",
       "    </tr>\n",
       "    <tr>\n",
       "      <th>141</th>\n",
       "      <td>b'Newsgroups: comp.graphics\\nPath: cantaloupe....</td>\n",
       "      <td>141</td>\n",
       "      <td>2</td>\n",
       "    </tr>\n",
       "  </tbody>\n",
       "</table>\n",
       "</div>"
      ],
      "text/plain": [
       "                                                  text doc_id  class\n",
       "415  b'Newsgroups: comp.graphics\\nPath: cantaloupe....    415      2\n",
       "926  b'Newsgroups: comp.graphics\\nPath: cantaloupe....    926      2\n",
       "511  b\"Xref: cantaloupe.srv.cs.cmu.edu comp.sys.hp:...    511      2\n",
       "492  b'Newsgroups: comp.graphics\\nPath: cantaloupe....    492      2\n",
       "141  b'Newsgroups: comp.graphics\\nPath: cantaloupe....    141      2"
      ]
     },
     "execution_count": 4,
     "metadata": {},
     "output_type": "execute_result"
    }
   ],
   "source": [
    "data = pd.DataFrame.from_dict(docs, orient = 'index', columns = ['text'])\n",
    "data['doc_id'] = data.index\n",
    "data['class'] = docs_label\n",
    "data.head()"
   ]
  },
  {
   "cell_type": "code",
   "execution_count": 5,
   "metadata": {},
   "outputs": [],
   "source": [
    "def joinList(inputList):\n",
    "    return \" \".join(inputList)  "
   ]
  },
  {
   "cell_type": "code",
   "execution_count": 6,
   "metadata": {},
   "outputs": [],
   "source": [
    "def applyPreprocessing(data, col_name):\n",
    "    data[col_name] = data[col_name].apply(tokenizeDocument)\n",
    "    data[col_name] = data[col_name].apply(joinList)\n",
    "  \n",
    "    return data[col_name]"
   ]
  },
  {
   "cell_type": "code",
   "execution_count": 7,
   "metadata": {},
   "outputs": [],
   "source": [
    "def getBagofwords(data, col_name):\n",
    "    vectorizer = CountVectorizer(analyzer = 'word')\n",
    "    bow = vectorizer.fit_transform(data[col_name])\n",
    "    return vectorizer, bow\n",
    "\n",
    "\n",
    "def featureNameToIndex(B,feat):\n",
    "    return B.vocabulary_.get(feat)"
   ]
  },
  {
   "cell_type": "code",
   "execution_count": 8,
   "metadata": {},
   "outputs": [
    {
     "name": "stdout",
     "output_type": "stream",
     "text": [
      "Total no. of documents :  5000\n",
      "Total no. of features (full text) :  19714\n"
     ]
    }
   ],
   "source": [
    "data['text'] = applyPreprocessing(data, 'text')\n",
    "vectorizer_content, bag_of_words  = getBagofwords(data, 'text')\n",
    "\n",
    "print('Total no. of documents : ', bag_of_words.shape[0])\n",
    "print('Total no. of features (full text) : ', bag_of_words.shape[1])\n",
    "\n",
    "bag_of_words = bag_of_words.toarray()\n",
    "bag_of_words = bag_of_words * (1/np.linalg.norm(bag_of_words, axis = 1))[:, np.newaxis]"
   ]
  },
  {
   "cell_type": "markdown",
   "metadata": {},
   "source": [
    "## KMeans"
   ]
  },
  {
   "cell_type": "code",
   "execution_count": 9,
   "metadata": {},
   "outputs": [],
   "source": [
    "def claculateMetrics(final_assignments, true_labels):\n",
    "    pred_labels = np.zeros((data.shape[0],))\n",
    "    \n",
    "    purity = 0\n",
    "    for k, v in final_assignments.items():\n",
    "        unq, cnt = np.unique(true_labels[v], return_counts = True)\n",
    "        purity+= np.max(cnt)\n",
    "        pred_labels[v] = unq[np.argmax(cnt)]\n",
    "    \n",
    "    # A clustering result satisfies homogeneity if all of its clusters \n",
    "    # contain only data points which are members of a single class\n",
    "    print('Homogeneity Score: ', homogeneity_score(true_labels, pred_labels))\n",
    "    print('Completeness Score: ', completeness_score(true_labels, pred_labels))\n",
    "    print('Purity :', purity/true_labels.shape[0] )\n",
    "    print('ARI: ', adjusted_rand_score(true_labels, pred_labels))\n",
    "    return"
   ]
  },
  {
   "cell_type": "code",
   "execution_count": 10,
   "metadata": {},
   "outputs": [
    {
     "name": "stdout",
     "output_type": "stream",
     "text": [
      "Intitial Centroids:  [[0. 0. 0. ... 0. 0. 0.]\n",
      " [0. 0. 0. ... 0. 0. 0.]\n",
      " [0. 0. 0. ... 0. 0. 0.]\n",
      " [0. 0. 0. ... 0. 0. 0.]\n",
      " [0. 0. 0. ... 0. 0. 0.]]\n",
      "Iteration number:  1\n",
      "cluster no.,  0  # points  561\n",
      "cluster no.,  1  # points  3479\n",
      "cluster no.,  2  # points  81\n",
      "cluster no.,  3  # points  548\n",
      "cluster no.,  4  # points  331\n",
      "SSE- 5970.409958420469\n",
      "Iteration number:  2\n",
      "cluster no.,  0  # points  486\n",
      "cluster no.,  1  # points  2724\n",
      "cluster no.,  2  # points  519\n",
      "cluster no.,  3  # points  750\n",
      "cluster no.,  4  # points  521\n",
      "SSE- 4483.061052322285\n",
      "Iteration number:  3\n",
      "cluster no.,  0  # points  438\n",
      "cluster no.,  1  # points  2344\n",
      "cluster no.,  2  # points  914\n",
      "cluster no.,  3  # points  725\n",
      "cluster no.,  4  # points  579\n",
      "SSE- 4452.638915669482\n",
      "Iteration number:  4\n",
      "cluster no.,  0  # points  424\n",
      "cluster no.,  1  # points  2024\n",
      "cluster no.,  2  # points  1253\n",
      "cluster no.,  3  # points  702\n",
      "cluster no.,  4  # points  597\n",
      "SSE- 4439.513883877621\n",
      "Iteration number:  5\n",
      "cluster no.,  0  # points  419\n",
      "cluster no.,  1  # points  1689\n",
      "cluster no.,  2  # points  1604\n",
      "cluster no.,  3  # points  688\n",
      "cluster no.,  4  # points  600\n",
      "SSE- 4430.802057397373\n",
      "Iteration number:  6\n",
      "cluster no.,  0  # points  414\n",
      "cluster no.,  1  # points  1464\n",
      "cluster no.,  2  # points  1845\n",
      "cluster no.,  3  # points  677\n",
      "cluster no.,  4  # points  600\n",
      "SSE- 4418.629576263618\n",
      "Iteration number:  7\n",
      "cluster no.,  0  # points  412\n",
      "cluster no.,  1  # points  1395\n",
      "cluster no.,  2  # points  1905\n",
      "cluster no.,  3  # points  687\n",
      "cluster no.,  4  # points  601\n",
      "SSE- 4411.726806038161\n",
      "Iteration number:  8\n",
      "cluster no.,  0  # points  413\n",
      "cluster no.,  1  # points  1368\n",
      "cluster no.,  2  # points  1905\n",
      "cluster no.,  3  # points  711\n",
      "cluster no.,  4  # points  603\n",
      "SSE- 4410.367415238761\n",
      "Iteration number:  9\n",
      "cluster no.,  0  # points  412\n",
      "cluster no.,  1  # points  1357\n",
      "cluster no.,  2  # points  1895\n",
      "cluster no.,  3  # points  733\n",
      "cluster no.,  4  # points  603\n",
      "SSE- 4410.106263521561\n",
      "Iteration number:  10\n",
      "cluster no.,  0  # points  411\n",
      "cluster no.,  1  # points  1358\n",
      "cluster no.,  2  # points  1880\n",
      "cluster no.,  3  # points  748\n",
      "cluster no.,  4  # points  603\n",
      "SSE- 4410.010117600576\n",
      "Iteration number:  11\n",
      "cluster no.,  0  # points  410\n",
      "cluster no.,  1  # points  1357\n",
      "cluster no.,  2  # points  1870\n",
      "cluster no.,  3  # points  760\n",
      "cluster no.,  4  # points  603\n",
      "SSE- 4409.9855384419925\n",
      "Iteration number:  12\n",
      "cluster no.,  0  # points  409\n",
      "cluster no.,  1  # points  1356\n",
      "cluster no.,  2  # points  1866\n",
      "cluster no.,  3  # points  766\n",
      "cluster no.,  4  # points  603\n",
      "SSE- 4409.9727247761075\n",
      "Iteration number:  13\n",
      "cluster no.,  0  # points  409\n",
      "cluster no.,  1  # points  1355\n",
      "cluster no.,  2  # points  1866\n",
      "cluster no.,  3  # points  767\n",
      "cluster no.,  4  # points  603\n",
      "SSE- 4409.967648351407\n",
      "Iteration number:  14\n",
      "cluster no.,  0  # points  409\n",
      "cluster no.,  1  # points  1355\n",
      "cluster no.,  2  # points  1865\n",
      "cluster no.,  3  # points  768\n",
      "cluster no.,  4  # points  603\n",
      "SSE- 4409.966239968083\n",
      "Iteration number:  15\n",
      "cluster no.,  0  # points  409\n",
      "cluster no.,  1  # points  1355\n",
      "cluster no.,  2  # points  1865\n",
      "cluster no.,  3  # points  768\n",
      "cluster no.,  4  # points  603\n",
      "SSE- 4409.967554650884\n",
      "Iteration number:  16\n",
      "cluster no.,  0  # points  409\n",
      "cluster no.,  1  # points  1355\n",
      "cluster no.,  2  # points  1865\n",
      "cluster no.,  3  # points  768\n",
      "cluster no.,  4  # points  603\n",
      "SSE- 4409.967554650884\n",
      "SSE list: [5970.409958420469, 4483.061052322285, 4452.638915669482, 4439.513883877621, 4430.802057397373, 4418.629576263618, 4411.726806038161, 4410.367415238761, 4410.106263521561, 4410.010117600576, 4409.9855384419925, 4409.9727247761075, 4409.967648351407, 4409.966239968083, 4409.967554650884, 4409.967554650884]\n",
      "Homogeneity Score:  0.37449187449936044\n",
      "Completeness Score:  0.4522348106409598\n",
      "Purity : 0.6048\n",
      "ARI:  0.33816665643522104\n"
     ]
    }
   ],
   "source": [
    "final_assignments = k_means(bag_of_words, 5, 0.001)\n",
    "claculateMetrics(final_assignments, data['class'])"
   ]
  },
  {
   "cell_type": "markdown",
   "metadata": {},
   "source": [
    "## Word2Vec"
   ]
  },
  {
   "cell_type": "code",
   "execution_count": 11,
   "metadata": {},
   "outputs": [],
   "source": [
    "w2v_model =  KeyedVectors.load_word2vec_format('GoogleNews-vectors-negative300.bin', binary=True)  "
   ]
  },
  {
   "cell_type": "code",
   "execution_count": 12,
   "metadata": {},
   "outputs": [
    {
     "name": "stdout",
     "output_type": "stream",
     "text": [
      "total vocab 3000000\n"
     ]
    }
   ],
   "source": [
    "print('total vocab', len(w2v_model.vocab))"
   ]
  },
  {
   "cell_type": "code",
   "execution_count": 13,
   "metadata": {},
   "outputs": [],
   "source": [
    "w2v_data = np.zeros((data.shape[0], 300)) # 300 is fixed"
   ]
  },
  {
   "cell_type": "code",
   "execution_count": 14,
   "metadata": {},
   "outputs": [],
   "source": [
    "for i in range(0, data.shape[0]):\n",
    "    w2v_data[i,:] = sentenceVector(w2v_model, data.loc[data.index[i], 'text'])"
   ]
  },
  {
   "cell_type": "code",
   "execution_count": 15,
   "metadata": {},
   "outputs": [
    {
     "name": "stdout",
     "output_type": "stream",
     "text": [
      "Intitial Centroids:  [[ 0.01692458  0.03138805  0.03153076 ... -0.06549072 -0.02737968\n",
      "  -0.01486005]\n",
      " [-0.01915077  0.05320601  0.00872223 ... -0.03938987 -0.02153669\n",
      "   0.02047918]\n",
      " [ 0.00499488  0.03233916 -0.03454566 ... -0.00706422 -0.00031306\n",
      "  -0.03999811]\n",
      " [-0.05045553  0.05799685  0.01443399 ... -0.03261097 -0.00331161\n",
      "   0.04978638]\n",
      " [ 0.0421592   0.03538631  0.0506137  ... -0.04778818 -0.03675092\n",
      "  -0.01349187]]\n",
      "Iteration number:  1\n",
      "cluster no.,  0  # points  1931\n",
      "cluster no.,  1  # points  1488\n",
      "cluster no.,  2  # points  727\n",
      "cluster no.,  3  # points  724\n",
      "cluster no.,  4  # points  130\n",
      "SSE- 2769.629772199673\n",
      "Iteration number:  2\n",
      "cluster no.,  0  # points  1402\n",
      "cluster no.,  1  # points  1308\n",
      "cluster no.,  2  # points  1087\n",
      "cluster no.,  3  # points  801\n",
      "cluster no.,  4  # points  402\n",
      "SSE- 2124.2396316456334\n",
      "Iteration number:  3\n",
      "cluster no.,  0  # points  1189\n",
      "cluster no.,  1  # points  1252\n",
      "cluster no.,  2  # points  1168\n",
      "cluster no.,  3  # points  750\n",
      "cluster no.,  4  # points  641\n",
      "SSE- 2095.297996753723\n",
      "Iteration number:  4\n",
      "cluster no.,  0  # points  1129\n",
      "cluster no.,  1  # points  1168\n",
      "cluster no.,  2  # points  1211\n",
      "cluster no.,  3  # points  715\n",
      "cluster no.,  4  # points  777\n",
      "SSE- 2074.3520889396113\n",
      "Iteration number:  5\n",
      "cluster no.,  0  # points  1099\n",
      "cluster no.,  1  # points  1047\n",
      "cluster no.,  2  # points  1279\n",
      "cluster no.,  3  # points  739\n",
      "cluster no.,  4  # points  836\n",
      "SSE- 2060.0554729427026\n",
      "Iteration number:  6\n",
      "cluster no.,  0  # points  1048\n",
      "cluster no.,  1  # points  1008\n",
      "cluster no.,  2  # points  1346\n",
      "cluster no.,  3  # points  746\n",
      "cluster no.,  4  # points  852\n",
      "SSE- 2054.6732674010514\n",
      "Iteration number:  7\n",
      "cluster no.,  0  # points  1018\n",
      "cluster no.,  1  # points  973\n",
      "cluster no.,  2  # points  1387\n",
      "cluster no.,  3  # points  761\n",
      "cluster no.,  4  # points  861\n",
      "SSE- 2053.3894439246233\n",
      "Iteration number:  8\n",
      "cluster no.,  0  # points  1001\n",
      "cluster no.,  1  # points  955\n",
      "cluster no.,  2  # points  1408\n",
      "cluster no.,  3  # points  775\n",
      "cluster no.,  4  # points  861\n",
      "SSE- 2052.808250665108\n",
      "Iteration number:  9\n",
      "cluster no.,  0  # points  988\n",
      "cluster no.,  1  # points  941\n",
      "cluster no.,  2  # points  1424\n",
      "cluster no.,  3  # points  785\n",
      "cluster no.,  4  # points  862\n",
      "SSE- 2052.538739077751\n",
      "Iteration number:  10\n",
      "cluster no.,  0  # points  984\n",
      "cluster no.,  1  # points  931\n",
      "cluster no.,  2  # points  1432\n",
      "cluster no.,  3  # points  791\n",
      "cluster no.,  4  # points  862\n",
      "SSE- 2052.4162202006287\n",
      "Iteration number:  11\n",
      "cluster no.,  0  # points  983\n",
      "cluster no.,  1  # points  928\n",
      "cluster no.,  2  # points  1433\n",
      "cluster no.,  3  # points  794\n",
      "cluster no.,  4  # points  862\n",
      "SSE- 2052.3630994092446\n",
      "Iteration number:  12\n",
      "cluster no.,  0  # points  982\n",
      "cluster no.,  1  # points  927\n",
      "cluster no.,  2  # points  1434\n",
      "cluster no.,  3  # points  795\n",
      "cluster no.,  4  # points  862\n",
      "SSE- 2052.344592123437\n",
      "Iteration number:  13\n",
      "cluster no.,  0  # points  980\n",
      "cluster no.,  1  # points  926\n",
      "cluster no.,  2  # points  1435\n",
      "cluster no.,  3  # points  797\n",
      "cluster no.,  4  # points  862\n",
      "SSE- 2052.3366937400374\n",
      "Iteration number:  14\n",
      "cluster no.,  0  # points  978\n",
      "cluster no.,  1  # points  925\n",
      "cluster no.,  2  # points  1437\n",
      "cluster no.,  3  # points  798\n",
      "cluster no.,  4  # points  862\n",
      "SSE- 2052.321910880805\n",
      "Iteration number:  15\n",
      "cluster no.,  0  # points  976\n",
      "cluster no.,  1  # points  923\n",
      "cluster no.,  2  # points  1438\n",
      "cluster no.,  3  # points  801\n",
      "cluster no.,  4  # points  862\n",
      "SSE- 2052.314817687783\n",
      "Iteration number:  16\n",
      "cluster no.,  0  # points  976\n",
      "cluster no.,  1  # points  921\n",
      "cluster no.,  2  # points  1438\n",
      "cluster no.,  3  # points  803\n",
      "cluster no.,  4  # points  862\n",
      "SSE- 2052.2933637341316\n",
      "Iteration number:  17\n",
      "cluster no.,  0  # points  975\n",
      "cluster no.,  1  # points  920\n",
      "cluster no.,  2  # points  1438\n",
      "cluster no.,  3  # points  805\n",
      "cluster no.,  4  # points  862\n",
      "SSE- 2052.278557997888\n",
      "Iteration number:  18\n",
      "cluster no.,  0  # points  975\n",
      "cluster no.,  1  # points  920\n",
      "cluster no.,  2  # points  1438\n",
      "cluster no.,  3  # points  805\n",
      "cluster no.,  4  # points  862\n",
      "SSE- 2052.266431830796\n",
      "Iteration number:  19\n",
      "cluster no.,  0  # points  975\n",
      "cluster no.,  1  # points  920\n",
      "cluster no.,  2  # points  1438\n",
      "cluster no.,  3  # points  805\n",
      "cluster no.,  4  # points  862\n",
      "SSE- 2052.266431830796\n",
      "SSE list: [2769.629772199673, 2124.2396316456334, 2095.297996753723, 2074.3520889396113, 2060.0554729427026, 2054.6732674010514, 2053.3894439246233, 2052.808250665108, 2052.538739077751, 2052.4162202006287, 2052.3630994092446, 2052.344592123437, 2052.3366937400374, 2052.321910880805, 2052.314817687783, 2052.2933637341316, 2052.278557997888, 2052.266431830796, 2052.266431830796]\n",
      "Homogeneity Score:  0.5477914226350797\n",
      "Completeness Score:  0.6818885935985274\n",
      "Purity : 0.6982\n",
      "ARI:  0.5064468517441302\n"
     ]
    }
   ],
   "source": [
    "final_assignments_w2v = k_means(w2v_data, 5, 0.001)\n",
    "claculateMetrics(final_assignments_w2v, data['class'])"
   ]
  },
  {
   "cell_type": "code",
   "execution_count": null,
   "metadata": {},
   "outputs": [],
   "source": []
  },
  {
   "cell_type": "code",
   "execution_count": null,
   "metadata": {},
   "outputs": [],
   "source": []
  },
  {
   "cell_type": "code",
   "execution_count": null,
   "metadata": {},
   "outputs": [],
   "source": []
  },
  {
   "cell_type": "code",
   "execution_count": null,
   "metadata": {},
   "outputs": [],
   "source": []
  },
  {
   "cell_type": "code",
   "execution_count": null,
   "metadata": {},
   "outputs": [],
   "source": []
  },
  {
   "cell_type": "code",
   "execution_count": null,
   "metadata": {},
   "outputs": [],
   "source": []
  },
  {
   "cell_type": "code",
   "execution_count": null,
   "metadata": {},
   "outputs": [],
   "source": []
  },
  {
   "cell_type": "code",
   "execution_count": null,
   "metadata": {},
   "outputs": [],
   "source": []
  },
  {
   "cell_type": "code",
   "execution_count": null,
   "metadata": {},
   "outputs": [],
   "source": []
  },
  {
   "cell_type": "code",
   "execution_count": null,
   "metadata": {},
   "outputs": [],
   "source": []
  }
 ],
 "metadata": {
  "kernelspec": {
   "display_name": "Python 3",
   "language": "python",
   "name": "python3"
  },
  "language_info": {
   "codemirror_mode": {
    "name": "ipython",
    "version": 3
   },
   "file_extension": ".py",
   "mimetype": "text/x-python",
   "name": "python",
   "nbconvert_exporter": "python",
   "pygments_lexer": "ipython3",
   "version": "3.6.7"
  }
 },
 "nbformat": 4,
 "nbformat_minor": 2
}
