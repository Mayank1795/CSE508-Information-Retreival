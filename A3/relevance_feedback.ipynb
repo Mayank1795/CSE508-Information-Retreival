{
 "cells": [
  {
   "cell_type": "code",
   "execution_count": 16,
   "metadata": {},
   "outputs": [],
   "source": [
    "import os\n",
    "from pprint import pprint\n",
    "import pandas as pd \n",
    "import numpy as np\n",
    "from nltk import WordNetLemmatizer\n",
    "from nltk import PorterStemmer\n",
    "from nltk.corpus import stopwords\n",
    "from nltk import WordPunctTokenizer\n",
    "import math\n",
    "from num2words import num2words\n",
    "import random\n",
    "random.seed(0)\n",
    "from decimal import Decimal\n",
    "from word2number import w2n\n",
    "from sklearn.manifold import TSNE\n",
    "import matplotlib.pyplot as plt\n",
    "import seaborn as sns\n",
    "%matplotlib inline\n",
    "plt.rcParams['figure.figsize'] = [8, 8]\n",
    "sns.set(style = \"darkgrid\")"
   ]
  },
  {
   "cell_type": "code",
   "execution_count": null,
   "metadata": {},
   "outputs": [],
   "source": []
  },
  {
   "cell_type": "code",
   "execution_count": 17,
   "metadata": {},
   "outputs": [],
   "source": [
    "%run functions.ipynb"
   ]
  },
  {
   "cell_type": "code",
   "execution_count": 18,
   "metadata": {},
   "outputs": [],
   "source": [
    "stop_ws = set(stopwords.words('english'))"
   ]
  },
  {
   "cell_type": "code",
   "execution_count": 19,
   "metadata": {},
   "outputs": [
    {
     "name": "stdout",
     "output_type": "stream",
     "text": [
      "No. of docs :  2000  Vocab :  30627\n"
     ]
    }
   ],
   "source": [
    "path = \"20_newsgroups/\"\n",
    "# rename_documents(path)\n",
    "docs = collect_documents(path)\n",
    "\n",
    "# print(docs)\n",
    "token_docId = []\n",
    "\n",
    "for k,v in docs.items():\n",
    "    for i in tokenizeDocument(v[0]):\n",
    "        token_docId.append([i,int(k)])\n",
    "        \n",
    "token_docId.sort()\n",
    "inverted_index = makeIndex(token_docId)\n",
    "V = len(inverted_index)\n",
    "N = len(docs.keys())\n",
    "\n",
    "print(\"No. of docs : \", N,\" Vocab : \", V )"
   ]
  },
  {
   "cell_type": "code",
   "execution_count": 5,
   "metadata": {},
   "outputs": [],
   "source": [
    "# inverted_index.keys()"
   ]
  },
  {
   "cell_type": "code",
   "execution_count": 20,
   "metadata": {},
   "outputs": [],
   "source": [
    "def getValue(term, docid):\n",
    "    \"\"\"\n",
    "        tf-idf\n",
    "    \"\"\"\n",
    "    s = 0\n",
    "    if term in inverted_index.keys():  \n",
    "        \n",
    "        if docid in inverted_index[term][1].keys():\n",
    "            \n",
    "            tf = 1 + math.log(inverted_index[term][1][docid], 10)\n",
    "            idf = math.log(N/inverted_index[term][0], 10)\n",
    "            \n",
    "            s = tf * idf\n",
    "    return s\n"
   ]
  },
  {
   "cell_type": "code",
   "execution_count": 7,
   "metadata": {},
   "outputs": [],
   "source": [
    "def docsVec():\n",
    "    \"\"\"\n",
    "        Create term doc matrix\n",
    "    \"\"\"\n",
    "    global tdm\n",
    "    k = 0\n",
    "    for term, plist in inverted_index.items():  # every term,plist \n",
    "        for i in range(1,N+1):      # every doc id\n",
    "            # calculate tf idf of term, for every doc id\n",
    "            if i in plist[1].keys():\n",
    "                tdm[k][i-1] = getValue(term, i) # tfidf, term, doc_id\n",
    "        k+=1\n"
   ]
  },
  {
   "cell_type": "code",
   "execution_count": 8,
   "metadata": {},
   "outputs": [],
   "source": [
    "def queryVec(query_tokens):\n",
    "    \n",
    "    query_vec = np.zeros((V,1))\n",
    "    k= 0\n",
    "    unq, cnt = np.unique(query_tokens, return_counts = True)\n",
    "\n",
    "    for term in inverted_index.keys():\n",
    "        if(term in query_tokens): \n",
    "            # Query vector # find index of  term in unq then get cnt[index]\n",
    "            pos = np.nonzero(unq == term)[0][0]\n",
    "            tf_query = 1 + math.log(cnt[pos], 10) \n",
    "            idf_query = math.log(N/inverted_index[term][0], 10)\n",
    "                \n",
    "            query_vec[k] = tf_query * idf_query\n",
    "        else:\n",
    "            query_vec[k] = 0\n",
    "        k+=1\n",
    "    return query_vec\n",
    "\n",
    "\n"
   ]
  },
  {
   "cell_type": "code",
   "execution_count": 9,
   "metadata": {},
   "outputs": [],
   "source": [
    "def q2(query, opt_query=False):\n",
    "    \n",
    "    if(not opt_query):\n",
    "        \n",
    "        query_tokens = tokenizeDocument(query, True) \n",
    "        query_vec = queryVec(query_tokens)\n",
    "    \n",
    "        # normalize query vector\n",
    "        euclid_dist_qy = np.linalg.norm(query_vec)\n",
    "        # print(euclid_dist_qy)\n",
    "        query_vec = (1/euclid_dist_qy)*query_vec\n",
    "        # print(query_vec.T[0])\n",
    "        query_vec_new = np.array(list(query_vec.flat))\n",
    "        \n",
    "    else:\n",
    "        query_vec_new = query\n",
    "        \n",
    "    similarity = []\n",
    "    \n",
    "    for j in range(0, tdm.shape[1]):\n",
    "        match_score = np.inner(tdm[:, j], query_vec_new.flatten())\n",
    "        if([match_score, j+1] not in similarity) and (match_score > 0):\n",
    "            similarity.append([match_score, j+1])\n",
    "    \n",
    "    top_ans = sorted(similarity, reverse=True)\n",
    "    \n",
    "    result_data = pd.DataFrame(top_ans[0:10], columns=[\"Similarity\", \"DocId\"])\n",
    "    \n",
    "#     print(result_data)\n",
    "    if(not opt_query):\n",
    "        return result_data, query_vec\n",
    "    else:\n",
    "        return result_data, query"
   ]
  },
  {
   "cell_type": "code",
   "execution_count": 10,
   "metadata": {},
   "outputs": [],
   "source": [
    "# Term Document Matrix\n",
    "tdm = np.zeros((V,N))\n",
    "docsVec()\n",
    "# Normalize document vectors\n",
    "euclid_dist = np.linalg.norm(tdm, axis=0)\n",
    "# print(euclid_dist)\n",
    "# new_dist = (1/euclid_dist)\n",
    "\n",
    "for c in range(0, tdm.shape[1]):   \n",
    "    tdm[:,c] = tdm[:,c]/euclid_dist[c] "
   ]
  },
  {
   "cell_type": "code",
   "execution_count": 11,
   "metadata": {},
   "outputs": [],
   "source": [
    "\n",
    "def Rocchio(result_df, query_v):\n",
    "    \n",
    "    alpha = 1\n",
    "    beta = 0.75\n",
    "    gamma = 0.15\n",
    "    \n",
    "    # no. of relevant docs\n",
    "    r_docs = result_df.loc[result_df['relevance'] == 1]\n",
    "    nr_docs = result_df.loc[result_df['relevance'] == 0]\n",
    "    \n",
    "    \n",
    "    sum_dj_r = np.zeros((V,1))\n",
    "    sum_dj_nr = np.zeros((V,1))\n",
    "    \n",
    "    for j in r_docs.iloc[:,1]:\n",
    "        sum_dj_r +=tdm[:, j-1][np.newaxis].T\n",
    "    \n",
    "    for j in nr_docs.iloc[:,1]:\n",
    "        sum_dj_nr +=tdm[:, j-1][np.newaxis].T\n",
    "        \n",
    "    opt_query = alpha*query_v + beta*((1/r_docs.shape[0])*sum_dj_r) - gamma*((1/nr_docs.shape[0])*sum_dj_nr)\n",
    "    \n",
    "    mean_r = (1/r_docs.shape[0])*sum_dj_r\n",
    "    mean_nr = (1/nr_docs.shape[0])*sum_dj_nr\n",
    "    return (opt_query, mean_r, mean_nr)\n",
    "    "
   ]
  },
  {
   "cell_type": "code",
   "execution_count": 12,
   "metadata": {},
   "outputs": [],
   "source": [
    "def drawTSNE(opt_q, qvec, mean_r, mean_nr):\n",
    "    \n",
    "    highDim_data = np.zeros((4, opt_q.shape[0]))\n",
    "    \n",
    "    highDim_data[0] = opt_q.T\n",
    "    highDim_data[1] = qvec.T\n",
    "    highDim_data[2] = mean_r.T\n",
    "    highDim_data[3] = mean_nr.T\n",
    "    \n",
    "#   print(highDim_data.shape, highDim_data)\n",
    "    lowDim_data = TSNE(n_components=2, init='pca').fit_transform(highDim_data)\n",
    "\n",
    "    points = pd.DataFrame(lowDim_data, columns=['x1', 'x2'])\n",
    "\n",
    "    print(points)\n",
    "            \n",
    "    ax = sns.scatterplot(x = 'x1', y = 'x2', data =  points, style = ['g', 'r', 'c', 'm'])\n",
    "    ax.set_title('TSNE Visualization')\n",
    "    plt.quiver( 0,0,points['x1'].values, points['x2'].values, color =  ['g', 'r', 'c', 'm'], angles='xy', scale_units='xy', scale=1)\n",
    "    \n",
    "    plt.show()"
   ]
  },
  {
   "cell_type": "code",
   "execution_count": null,
   "metadata": {},
   "outputs": [
    {
     "name": "stdout",
     "output_type": "stream",
     "text": [
      "Search : LightWave3D is part of a suite argument against automobiles\n",
      "   Similarity  DocId\n",
      "0    0.129625      8\n",
      "1    0.117137   1014\n",
      "2    0.058779    908\n",
      "3    0.057143    837\n",
      "4    0.047351    452\n",
      "5    0.044371    590\n",
      "6    0.037278    874\n",
      "7    0.033305   1263\n",
      "8    0.032167   1969\n",
      "9    0.031688   1224\n",
      "Relevants : 1\n",
      "\n",
      "\n",
      "           x1          x2\n",
      "0 -125.296547  181.259140\n",
      "1 -283.091858   16.348186\n",
      "2 -121.739929   19.907124\n",
      "3 -286.648468  177.700180\n"
     ]
    },
    {
     "data": {
      "image/png": "[encoded data removed]",
      "text/plain": [
       "<Figure size 576x576 with 1 Axes>"
      ]
     },
     "metadata": {},
     "output_type": "display_data"
    },
    {
     "name": "stdout",
     "output_type": "stream",
     "text": [
      "1115\n",
      "   Similarity  DocId\n",
      "0    0.863978   1014\n",
      "1    0.118763      8\n",
      "2    0.111742   1558\n",
      "3    0.099068   1324\n",
      "4    0.078965   1469\n",
      "5    0.052986    837\n",
      "6    0.051881   1737\n",
      "7    0.049444    908\n",
      "8    0.046135   1333\n",
      "9    0.044787    337\n",
      "Relevants : 0,1,2,3\n",
      "\n",
      "\n",
      "           x1          x2\n",
      "0 -236.959000  454.839874\n",
      "1 -205.829971  169.830673\n",
      "2   79.178886  200.962128\n",
      "3   48.049873  485.971222\n"
     ]
    },
    {
     "data": {
      "image/png": "[encoded data removed]",
      "text/plain": [
       "<Figure size 576x576 with 1 Axes>"
      ]
     },
     "metadata": {},
     "output_type": "display_data"
    },
    {
     "name": "stdout",
     "output_type": "stream",
     "text": [
      "1606\n",
      "   Similarity  DocId\n",
      "0    1.102397   1014\n",
      "1    0.366618   1558\n",
      "2    0.354941   1324\n",
      "3    0.310880      8\n",
      "4    0.175137   1469\n",
      "5    0.096755   1643\n",
      "6    0.086841   1800\n",
      "7    0.084835   1343\n",
      "8    0.080293   1427\n",
      "9    0.077965   1852\n"
     ]
    }
   ],
   "source": [
    "run = True\n",
    "\n",
    "tk = 4\n",
    "\n",
    "while(run):\n",
    "    \n",
    "    query = input('Search : ')\n",
    "\n",
    "    if(query == \"\"):\n",
    "        run = False\n",
    "        print(\"Exiting...\")  \n",
    "    else:\n",
    "        result_df, qvec = q2(query)\n",
    "        \n",
    "        print(result_df)\n",
    "        \n",
    "        while(1):\n",
    "            \n",
    "            tk = result_df.shape[0] \n",
    "           \n",
    "            relv = np.zeros((tk,)) # 0 nr, 1 r\n",
    "            \n",
    "            relevant = input('Relevants : ')\n",
    "            # taking feedback\n",
    "            if(relevant == \"\"): # assumption atleast one doc is relevant to the user, and at least one doc is irrelevant\n",
    "                break\n",
    "                \n",
    "            kl = relevant.split(',')\n",
    "            \n",
    "            for k in kl:\n",
    "                relv[int(k)] = 1\n",
    "            \n",
    "            relv_df = pd.Series(data = relv, name = \"relevance\")\n",
    "            result_df = pd.concat([result_df, relv_df], axis = 1)\n",
    "\n",
    "            print('\\n')\n",
    "            # find optimal query - Rocchio part and get new results\n",
    "            opt_q, mean_r, mean_nr = Rocchio(result_df, qvec)\n",
    "            \n",
    "            drawTSNE(opt_q, qvec, mean_r, mean_nr)\n",
    "            \n",
    "            print(np.count_nonzero(opt_q))\n",
    "            updated_results, updated_query =  q2(opt_q, True) # updated_query == opt_q\n",
    "            print(updated_results)\n",
    "            result_df = updated_results\n",
    "            \n",
    "            qvec = updated_query\n",
    "            "
   ]
  },
  {
   "cell_type": "code",
   "execution_count": 14,
   "metadata": {},
   "outputs": [],
   "source": [
    "# pprint(inverted_index['signal'])\n"
   ]
  },
  {
   "cell_type": "code",
   "execution_count": null,
   "metadata": {},
   "outputs": [],
   "source": []
  },
  {
   "cell_type": "code",
   "execution_count": null,
   "metadata": {},
   "outputs": [],
   "source": []
  },
  {
   "cell_type": "code",
   "execution_count": null,
   "metadata": {},
   "outputs": [],
   "source": []
  },
  {
   "cell_type": "code",
   "execution_count": null,
   "metadata": {},
   "outputs": [],
   "source": []
  },
  {
   "cell_type": "code",
   "execution_count": null,
   "metadata": {},
   "outputs": [],
   "source": []
  },
  {
   "cell_type": "code",
   "execution_count": null,
   "metadata": {},
   "outputs": [],
   "source": []
  },
  {
   "cell_type": "code",
   "execution_count": null,
   "metadata": {},
   "outputs": [],
   "source": []
  },
  {
   "cell_type": "code",
   "execution_count": null,
   "metadata": {},
   "outputs": [],
   "source": []
  }
 ],
 "metadata": {
  "kernelspec": {
   "display_name": "Python 3",
   "language": "python",
   "name": "python3"
  },
  "language_info": {
   "codemirror_mode": {
    "name": "ipython",
    "version": 3
   },
   "file_extension": ".py",
   "mimetype": "text/x-python",
   "name": "python",
   "nbconvert_exporter": "python",
   "pygments_lexer": "ipython3",
   "version": "3.6.7"
  }
 },
 "nbformat": 4,
 "nbformat_minor": 2
}
