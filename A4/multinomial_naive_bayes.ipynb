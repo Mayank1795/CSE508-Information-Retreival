{
 "cells": [
  {
   "cell_type": "code",
   "execution_count": 1,
   "metadata": {},
   "outputs": [],
   "source": [
    "import os\n",
    "from pprint import pprint\n",
    "import pandas as pd \n",
    "import numpy as np\n",
    "from nltk import WordNetLemmatizer\n",
    "from sklearn.metrics import log_loss\n",
    "import enchant\n",
    "from nltk import PorterStemmer\n",
    "from nltk.corpus import stopwords\n",
    "from nltk import WordPunctTokenizer\n",
    "import math\n",
    "from IPython.display import clear_output \n",
    "from num2words import num2words\n",
    "from nltk.tokenize import RegexpTokenizer\n",
    "from decimal import Decimal\n",
    "from word2number import w2n\n",
    "import matplotlib.pyplot as plt\n",
    "from collections import Counter\n",
    "import warnings\n",
    "warnings.filterwarnings('ignore')\n",
    "import random\n",
    "import seaborn as sns\n",
    "import copy\n",
    "random.seed(0)\n",
    "%matplotlib inline\n",
    "# plt.rcParams['figure.figsize'] = [8, 8]\n",
    "sns.set(style = \"darkgrid\")\n",
    "\n",
    "%run functions.ipynb"
   ]
  },
  {
   "cell_type": "code",
   "execution_count": 2,
   "metadata": {},
   "outputs": [],
   "source": [
    "stop_ws = set(stopwords.words('english'))\n",
    "d = enchant.Dict(\"en_US\")\n",
    "path = \"dataset/\"\n",
    "renamed = False"
   ]
  },
  {
   "cell_type": "code",
   "execution_count": 3,
   "metadata": {},
   "outputs": [],
   "source": [
    "# if(not renamed):\n",
    "#     rename_documents(path)\n",
    "#     renamed = True\n",
    "\n",
    "docs, docs_label = collect_documents(path)\n",
    "\n",
    "C = 5"
   ]
  },
  {
   "cell_type": "code",
   "execution_count": 27,
   "metadata": {},
   "outputs": [
    {
     "name": "stdout",
     "output_type": "stream",
     "text": [
      "sci.med               522\n",
      "comp.graphics         519\n",
      "sci.space             492\n",
      "talk.politics.misc    488\n",
      "rec.sport.hockey      479\n",
      "Name: class, dtype: int64\n",
      "['comp.graphics', 'rec.sport.hockey', 'sci.med', 'sci.space', 'talk.politics.misc']\n",
      "[0.2076, 0.1916, 0.2088, 0.1968, 0.1952]\n"
     ]
    }
   ],
   "source": [
    "data = pd.DataFrame.from_dict(docs, orient = 'index', columns = ['text'])\n",
    "data['doc_id'] = data.index\n",
    "data['class'] = docs_label\n",
    "data = data.sample(frac=1).reset_index(drop=True)\n",
    "\n",
    "\"\"\" Randomly split data, to get train and test set \"\"\"\n",
    "split_percentage = 50 # train set %\n",
    "# train_data, test_data = splitDataset(data, split_percentage)\n",
    "nr = int((split_percentage/100)*data.shape[0])\n",
    "\n",
    "train_data = data.iloc[:nr, :]\n",
    "test_data = data.iloc[nr:, :]\n",
    "\n",
    "train_data, test_data, priors = convertLabels(train_data, test_data)\n",
    "\n",
    "test_data.reset_index(drop = True, inplace = True)\n",
    "train_data.reset_index(drop = True, inplace = True)\n",
    "total_docs = train_data.shape[0]"
   ]
  },
  {
   "cell_type": "code",
   "execution_count": 28,
   "metadata": {},
   "outputs": [],
   "source": [
    "token_docId = []\n",
    "\n",
    "for i in range(0, train_data.shape[0]):\n",
    "    document = train_data.loc[i,'text']\n",
    "    for token in tokenizeDocument(document):\n",
    "        token_docId.append([token, train_data.loc[i, 'doc_id'], train_data.loc[i, 'class']])\n",
    "        \n",
    "token_docId = pd.DataFrame(token_docId, columns = ['token', 'doc_id', 'class'])        \n",
    "\n",
    "token_docId = pd.DataFrame(token_docId, columns = ['token', 'doc_id', 'class'])\n",
    "token_docId =  token_docId.sort_values(by=['token'])\n",
    "\n",
    "inverted_index, class_index = makeIndex(token_docId, C)\n",
    "# old_inverted_index = makeIndexQ2(token_docId)\n",
    "\n"
   ]
  },
  {
   "cell_type": "code",
   "execution_count": 29,
   "metadata": {
    "scrolled": true
   },
   "outputs": [
    {
     "name": "stdout",
     "output_type": "stream",
     "text": [
      "16087\n"
     ]
    }
   ],
   "source": [
    "print(len(inverted_index))\n",
    "V = len(inverted_index.keys())\n",
    "\n",
    "# print(\"Vocab : \", V )"
   ]
  },
  {
   "cell_type": "code",
   "execution_count": 30,
   "metadata": {},
   "outputs": [],
   "source": [
    "test_docs = testDataTokens(test_data['text']) # convert test data docs to tokens"
   ]
  },
  {
   "cell_type": "code",
   "execution_count": 31,
   "metadata": {},
   "outputs": [],
   "source": [
    "likelihood = trainNB(inverted_index)"
   ]
  },
  {
   "cell_type": "code",
   "execution_count": 32,
   "metadata": {},
   "outputs": [],
   "source": [
    "def classify(all_docs, inverted_index, likelihood):\n",
    "     \n",
    "    predicted_class = []\n",
    "    \n",
    "    for doc in all_docs:\n",
    "        p = [1]*C\n",
    "        for c in range(0, C):\n",
    "            for term in doc:            \n",
    "                if(term in inverted_index.keys()):\n",
    "                    p[c]+=math.log(likelihood.loc[c, term], 10)\n",
    "                else:\n",
    "                    p[c]+=math.log((1/(class_index[c] + V)), 10)\n",
    "            \n",
    "            p[c]+=math.log(priors[c], 10)\n",
    "        predicted_class.append(p.index(max(p)))\n",
    "                \n",
    "    return predicted_class\n",
    "    \n",
    "    \n",
    "    "
   ]
  },
  {
   "cell_type": "code",
   "execution_count": 33,
   "metadata": {},
   "outputs": [],
   "source": [
    "predicted_class = classify(test_docs, inverted_index, likelihood)"
   ]
  },
  {
   "cell_type": "code",
   "execution_count": 34,
   "metadata": {},
   "outputs": [
    {
     "name": "stdout",
     "output_type": "stream",
     "text": [
      "Accuracy using 50 % training data  97.88 %.\n"
     ]
    },
    {
     "data": {
      "image/png": "[encoded data removed]",
      "text/plain": [
       "<Figure size 432x288 with 2 Axes>"
      ]
     },
     "metadata": {
      "needs_background": "light"
     },
     "output_type": "display_data"
    }
   ],
   "source": [
    "conf_mat = findAccuracy(predicted_class, test_data)\n",
    "print('Accuracy using',split_percentage, '% training data ', (np.trace(conf_mat)/np.sum(conf_mat))*100, '%.')\n",
    "drawConfusionMatrix(conf_mat, str(split_percentage) +':'+ str(100 - split_percentage))"
   ]
  },
  {
   "cell_type": "code",
   "execution_count": 18,
   "metadata": {},
   "outputs": [
    {
     "name": "stdout",
     "output_type": "stream",
     "text": [
      "Current progress:  98.78\n"
     ]
    }
   ],
   "source": [
    "\"\"\" Feature Selection Q2. \"\"\"\n",
    "new_feature_index = featureSelect(old_inverted_index, total_docs)"
   ]
  },
  {
   "cell_type": "code",
   "execution_count": 19,
   "metadata": {},
   "outputs": [
    {
     "name": "stdout",
     "output_type": "stream",
     "text": [
      "# total features:  56729\n",
      "Accuracy for  70:30  with top 10% features:  84.06666666666666%.\n",
      "Accuracy for  70:30  with top 20% features:  94.0%.\n",
      "Accuracy for  70:30  with top 30% features:  95.86666666666666%.\n",
      "Accuracy for  70:30  with top 40% features:  96.33333333333334%.\n",
      "Accuracy for  70:30  with top 50% features:  96.6%.\n",
      "Accuracy for  70:30  with top 60% features:  96.66666666666667%.\n",
      "Accuracy for  70:30  with top 70% features:  96.66666666666667%.\n",
      "Accuracy for  70:30  with top 80% features:  96.66666666666667%.\n",
      "Accuracy for  70:30  with top 90% features:  96.73333333333333%.\n"
     ]
    }
   ],
   "source": [
    "term_utility = pd.DataFrame(new_feature_index, columns = ['term', 'tfidf'])\n",
    "\n",
    "print('# total features: ', len(old_inverted_index))\n",
    "# topfeat = int(input(' Enter required features(%): '))\n",
    "\n",
    "term_utility = term_utility.groupby('term', as_index =False).max()\n",
    "\n",
    "term_utility = term_utility.sort_values(['tfidf'], ascending = [False])\n",
    "term_utility.reset_index(drop = True, inplace =True)\n",
    "\n",
    "topfeat = list(range(10,100,10))\n",
    "results = []\n",
    "\n",
    "for feat in topfeat:\n",
    "    topft = int((feat*term_utility.shape[0])/100)\n",
    "    reduced_vocab_terms = term_utility.iloc[:topft,:]['term'].values\n",
    "    results.append(runQ2(feat, reduced_vocab_terms))"
   ]
  },
  {
   "cell_type": "code",
   "execution_count": 437,
   "metadata": {},
   "outputs": [
    {
     "data": {
      "image/png": "[encoded data removed]",
      "text/plain": [
       "<Figure size 432x288 with 1 Axes>"
      ]
     },
     "metadata": {},
     "output_type": "display_data"
    }
   ],
   "source": [
    "results = sorted(results)\n",
    "sns.lineplot(topfeat, results)\n",
    "plt.xlabel('% of top features')\n",
    "plt.ylabel('Accuracy')\n",
    "plt.title('Accuracy for k top features with 70:30')\n",
    "plt.show()"
   ]
  },
  {
   "cell_type": "code",
   "execution_count": null,
   "metadata": {},
   "outputs": [],
   "source": []
  }
 ],
 "metadata": {
  "kernelspec": {
   "display_name": "Python 3",
   "language": "python",
   "name": "python3"
  },
  "language_info": {
   "codemirror_mode": {
    "name": "ipython",
    "version": 3
   },
   "file_extension": ".py",
   "mimetype": "text/x-python",
   "name": "python",
   "nbconvert_exporter": "python",
   "pygments_lexer": "ipython3",
   "version": "3.6.7"
  }
 },
 "nbformat": 4,
 "nbformat_minor": 2
}
